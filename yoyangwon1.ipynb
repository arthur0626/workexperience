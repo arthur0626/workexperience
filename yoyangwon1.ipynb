{
 "cells": [
  {
   "cell_type": "code",
   "execution_count": 1,
   "id": "c75b253b",
   "metadata": {},
   "outputs": [],
   "source": [
    "from selenium import webdriver\n",
    "from selenium.webdriver.chrome.options import Options\n",
    "from webdriver_manager.chrome import ChromeDriverManager"
   ]
  },
  {
   "cell_type": "code",
   "execution_count": 2,
   "id": "ebc59317",
   "metadata": {},
   "outputs": [],
   "source": [
    "options=Options()\n",
    "options.add_experimental_option('detach',True)\n",
    "options.add_experimental_option('excludeSwitches',['enable-logging'])"
   ]
  },
  {
   "cell_type": "code",
   "execution_count": 3,
   "id": "848cbd3d",
   "metadata": {},
   "outputs": [],
   "source": [
    "from selenium import webdriver\n",
    "from selenium.webdriver.chrome.service import Service\n",
    "from selenium.webdriver.chrome.options import Options\n",
    "from webdriver_manager.chrome import ChromeDriverManager\n",
    "\n",
    "options = Options()\n",
    "options.add_experimental_option('detach', True)\n",
    "options.add_experimental_option('excludeSwitches', ['enable-logging'])\n",
    "\n",
    "service = Service(ChromeDriverManager().install())\n",
    "driver = webdriver.Chrome(service=service, options=options)\n",
    "\n",
    "\n"
   ]
  },
  {
   "cell_type": "code",
   "execution_count": 4,
   "id": "d9f737b8",
   "metadata": {},
   "outputs": [
    {
     "name": "stdout",
     "output_type": "stream",
     "text": [
      "Requirement already satisfied: selenium in c:\\users\\samsung\\appdata\\local\\packages\\pythonsoftwarefoundation.python.3.8_qbz5n2kfra8p0\\localcache\\local-packages\\python38\\site-packages (4.27.1)\n",
      "Requirement already satisfied: webdriver-manager in c:\\users\\samsung\\appdata\\local\\packages\\pythonsoftwarefoundation.python.3.8_qbz5n2kfra8p0\\localcache\\local-packages\\python38\\site-packages (4.0.2)\n",
      "Requirement already satisfied: urllib3[socks]<3,>=1.26 in c:\\users\\samsung\\appdata\\local\\packages\\pythonsoftwarefoundation.python.3.8_qbz5n2kfra8p0\\localcache\\local-packages\\python38\\site-packages (from selenium) (2.2.3)\n",
      "Requirement already satisfied: certifi>=2021.10.8 in c:\\users\\samsung\\appdata\\local\\packages\\pythonsoftwarefoundation.python.3.8_qbz5n2kfra8p0\\localcache\\local-packages\\python38\\site-packages (from selenium) (2025.8.3)\n",
      "Requirement already satisfied: websocket-client~=1.8 in c:\\users\\samsung\\appdata\\local\\packages\\pythonsoftwarefoundation.python.3.8_qbz5n2kfra8p0\\localcache\\local-packages\\python38\\site-packages (from selenium) (1.8.0)\n",
      "Requirement already satisfied: trio-websocket~=0.9 in c:\\users\\samsung\\appdata\\local\\packages\\pythonsoftwarefoundation.python.3.8_qbz5n2kfra8p0\\localcache\\local-packages\\python38\\site-packages (from selenium) (0.12.2)\n",
      "Requirement already satisfied: typing_extensions~=4.9 in c:\\users\\samsung\\appdata\\local\\packages\\pythonsoftwarefoundation.python.3.8_qbz5n2kfra8p0\\localcache\\local-packages\\python38\\site-packages (from selenium) (4.13.2)\n",
      "Requirement already satisfied: trio~=0.17 in c:\\users\\samsung\\appdata\\local\\packages\\pythonsoftwarefoundation.python.3.8_qbz5n2kfra8p0\\localcache\\local-packages\\python38\\site-packages (from selenium) (0.27.0)\n",
      "Requirement already satisfied: outcome in c:\\users\\samsung\\appdata\\local\\packages\\pythonsoftwarefoundation.python.3.8_qbz5n2kfra8p0\\localcache\\local-packages\\python38\\site-packages (from trio~=0.17->selenium) (1.3.0.post0)\n",
      "Requirement already satisfied: sortedcontainers in c:\\users\\samsung\\appdata\\local\\packages\\pythonsoftwarefoundation.python.3.8_qbz5n2kfra8p0\\localcache\\local-packages\\python38\\site-packages (from trio~=0.17->selenium) (2.4.0)\n",
      "Requirement already satisfied: cffi>=1.14 in c:\\users\\samsung\\appdata\\local\\packages\\pythonsoftwarefoundation.python.3.8_qbz5n2kfra8p0\\localcache\\local-packages\\python38\\site-packages (from trio~=0.17->selenium) (1.17.1)\n",
      "Requirement already satisfied: attrs>=23.2.0 in c:\\users\\samsung\\appdata\\local\\packages\\pythonsoftwarefoundation.python.3.8_qbz5n2kfra8p0\\localcache\\local-packages\\python38\\site-packages (from trio~=0.17->selenium) (25.3.0)\n",
      "Requirement already satisfied: sniffio>=1.3.0 in c:\\users\\samsung\\appdata\\local\\packages\\pythonsoftwarefoundation.python.3.8_qbz5n2kfra8p0\\localcache\\local-packages\\python38\\site-packages (from trio~=0.17->selenium) (1.3.1)\n",
      "Requirement already satisfied: exceptiongroup in c:\\users\\samsung\\appdata\\local\\packages\\pythonsoftwarefoundation.python.3.8_qbz5n2kfra8p0\\localcache\\local-packages\\python38\\site-packages (from trio~=0.17->selenium) (1.3.0)\n",
      "Requirement already satisfied: idna in c:\\users\\samsung\\appdata\\local\\packages\\pythonsoftwarefoundation.python.3.8_qbz5n2kfra8p0\\localcache\\local-packages\\python38\\site-packages (from trio~=0.17->selenium) (3.10)\n",
      "Requirement already satisfied: pycparser in c:\\users\\samsung\\appdata\\local\\packages\\pythonsoftwarefoundation.python.3.8_qbz5n2kfra8p0\\localcache\\local-packages\\python38\\site-packages (from cffi>=1.14->trio~=0.17->selenium) (2.22)\n",
      "Requirement already satisfied: wsproto>=0.14 in c:\\users\\samsung\\appdata\\local\\packages\\pythonsoftwarefoundation.python.3.8_qbz5n2kfra8p0\\localcache\\local-packages\\python38\\site-packages (from trio-websocket~=0.9->selenium) (1.2.0)\n",
      "Requirement already satisfied: pysocks!=1.5.7,<2.0,>=1.5.6 in c:\\users\\samsung\\appdata\\local\\packages\\pythonsoftwarefoundation.python.3.8_qbz5n2kfra8p0\\localcache\\local-packages\\python38\\site-packages (from urllib3[socks]<3,>=1.26->selenium) (1.7.1)\n",
      "Requirement already satisfied: h11<1,>=0.9.0 in c:\\users\\samsung\\appdata\\local\\packages\\pythonsoftwarefoundation.python.3.8_qbz5n2kfra8p0\\localcache\\local-packages\\python38\\site-packages (from wsproto>=0.14->trio-websocket~=0.9->selenium) (0.16.0)\n",
      "Requirement already satisfied: python-dotenv in c:\\users\\samsung\\appdata\\local\\packages\\pythonsoftwarefoundation.python.3.8_qbz5n2kfra8p0\\localcache\\local-packages\\python38\\site-packages (from webdriver-manager) (1.0.1)\n",
      "Requirement already satisfied: packaging in c:\\users\\samsung\\appdata\\local\\packages\\pythonsoftwarefoundation.python.3.8_qbz5n2kfra8p0\\localcache\\local-packages\\python38\\site-packages (from webdriver-manager) (25.0)\n",
      "Requirement already satisfied: requests in c:\\users\\samsung\\appdata\\local\\packages\\pythonsoftwarefoundation.python.3.8_qbz5n2kfra8p0\\localcache\\local-packages\\python38\\site-packages (from webdriver-manager) (2.32.4)\n",
      "Requirement already satisfied: charset_normalizer<4,>=2 in c:\\users\\samsung\\appdata\\local\\packages\\pythonsoftwarefoundation.python.3.8_qbz5n2kfra8p0\\localcache\\local-packages\\python38\\site-packages (from requests->webdriver-manager) (3.4.2)\n",
      "Note: you may need to restart the kernel to use updated packages.\n"
     ]
    },
    {
     "name": "stderr",
     "output_type": "stream",
     "text": [
      "WARNING: You are using pip version 21.1.1; however, version 25.0.1 is available.\n",
      "You should consider upgrading via the 'C:\\Users\\samsung\\AppData\\Local\\Microsoft\\WindowsApps\\PythonSoftwareFoundation.Python.3.8_qbz5n2kfra8p0\\python.exe -m pip install --upgrade pip' command.\n"
     ]
    }
   ],
   "source": [
    "pip install -U selenium webdriver-manager"
   ]
  },
  {
   "cell_type": "code",
   "execution_count": 5,
   "id": "dad2727c",
   "metadata": {},
   "outputs": [],
   "source": [
    "my_url = \"https://www.silvercarekorea.com/silver/list.php?pagenum=4&addcode=28140&searchkeyword=&orderby=&hashtag=&gubun=\"\n",
    "driver.get(my_url)"
   ]
  },
  {
   "cell_type": "code",
   "execution_count": 6,
   "id": "fd086d4a",
   "metadata": {},
   "outputs": [],
   "source": [
    "import time\n",
    "from bs4 import BeautifulSoup"
   ]
  },
  {
   "cell_type": "code",
   "execution_count": 7,
   "id": "ed465aa3",
   "metadata": {},
   "outputs": [],
   "source": [
    "time.sleep(2)"
   ]
  },
  {
   "cell_type": "code",
   "execution_count": 8,
   "id": "ccc320f2",
   "metadata": {},
   "outputs": [],
   "source": [
    "html = driver.page_source\n",
    "soup = BeautifulSoup(html, \"html.parser\")"
   ]
  },
  {
   "cell_type": "code",
   "execution_count": 9,
   "id": "b5257f2d",
   "metadata": {},
   "outputs": [],
   "source": [
    "table = soup.select_one('table.datatable12')"
   ]
  },
  {
   "cell_type": "code",
   "execution_count": 12,
   "id": "e7f8b937",
   "metadata": {},
   "outputs": [
    {
     "name": "stdout",
     "output_type": "stream",
     "text": [
      "['번호', '요양기관명']\n",
      "['31', '가봄노인재가복지센터인천광역시 동구 화평동방문요양 / 방문목욕/ 2022년 08월 개원 / 요양보호사 : 33명']\n",
      "['32', '로사케어재가복지센터인천광역시 동구 송림동방문요양 / 방문목욕/ 2022년 10월 개원 / 요양보호사 : 27명']\n",
      "['33', '행복나눔노인복지센터인천광역시 동구 금곡동방문요양 / 방문목욕/ 2009년 11월 개원 / 요양보호사 : 49명']\n",
      "['34', '삼성노인복지센터인천광역시 동구 창영동방문요양 / 방문목욕/ 2010년 04월 개원 / 요양보호사 : 46명']\n",
      "['35', '송원재가노인복지센터인천광역시 동구 송림동방문요양 / 방문목욕/ 2015년 12월 개원 / 요양보호사 : 71명']\n",
      "['36', '동산노인복지센터인천광역시 동구 송림동방문요양 / 방문목욕/ 2016년 04월 개원 / 요양보호사 : 22명']\n",
      "['37', '우리요양복지센터인천광역시 동구 화수동방문요양 / 방문목욕/ 2016년 10월 개원 / 요양보호사 : 41명']\n",
      "['38', '동행재가노인복지센터인천광역시 동구 창영동방문요양 / 방문목욕/ 2018년 01월 개원 / 요양보호사 : 140명']\n",
      "['39', '에덴재가노인복지센터인천광역시 동구 금곡동방문요양 / 방문목욕/ 2018년 02월 개원 / 요양보호사 : 37명']\n",
      "['40', '미소재가노인복지센터인천광역시 동구 송현동방문요양 / 방문목욕/ 2019년 09월 개원 / 요양보호사 : 44명']\n"
     ]
    }
   ],
   "source": [
    "from bs4 import BeautifulSoup\n",
    "\n",
    "html = driver.page_source   # Selenium으로 불러온 페이지 소스\n",
    "soup = BeautifulSoup(html, \"html.parser\")\n",
    "\n",
    "# 테이블 class명에 맞게 수정 ('datatable12' 등)\n",
    "table = soup.select_one('table.datatable12')\n",
    "\n",
    "results = []\n",
    "if table:\n",
    "    rows = table.find_all('tr')\n",
    "    for row in rows:\n",
    "        cols = row.find_all(['td', 'th'])\n",
    "        row_data = [col.get_text(strip=True) for col in cols]\n",
    "        # (필요하다면 첫 번째 tr은 헤더니까 제외 등 가공 가능)\n",
    "        if row_data:  # 빈 행 제외\n",
    "            results.append(row_data)\n",
    "\n",
    "for row in results:\n",
    "    print(row)\n",
    "\n"
   ]
  },
  {
   "cell_type": "code",
   "execution_count": 13,
   "id": "5affeb00",
   "metadata": {},
   "outputs": [
    {
     "name": "stdout",
     "output_type": "stream",
     "text": [
      "시설명: 가봄노인재가복지센터 | 주소: 인천광역시 동 | 기타정보: 구 화평동방문요양 / 방문목욕/ 2022년 08월 개원 / 요양보호사 : 33명\n",
      "시설명: 로사케어재가복지센터 | 주소: 인천광역시 동 | 기타정보: 구 송림동방문요양 / 방문목욕/ 2022년 10월 개원 / 요양보호사 : 27명\n",
      "시설명: 행복나눔노인복지센터 | 주소: 인천광역시 동 | 기타정보: 구 금곡동방문요양 / 방문목욕/ 2009년 11월 개원 / 요양보호사 : 49명\n",
      "시설명: 삼성노인복지센터 | 주소: 인천광역시 동 | 기타정보: 구 창영동방문요양 / 방문목욕/ 2010년 04월 개원 / 요양보호사 : 46명\n",
      "시설명: 송원재가노인복지센터 | 주소: 인천광역시 동 | 기타정보: 구 송림동방문요양 / 방문목욕/ 2015년 12월 개원 / 요양보호사 : 71명\n",
      "시설명: 동산노인복지센터 | 주소: 인천광역시 동 | 기타정보: 구 송림동방문요양 / 방문목욕/ 2016년 04월 개원 / 요양보호사 : 22명\n",
      "시설명: 우리요양복지센터 | 주소: 인천광역시 동 | 기타정보: 구 화수동방문요양 / 방문목욕/ 2016년 10월 개원 / 요양보호사 : 41명\n",
      "시설명: 동행재가노인복지센터 | 주소: 인천광역시 동 | 기타정보: 구 창영동방문요양 / 방문목욕/ 2018년 01월 개원 / 요양보호사 : 140명\n",
      "시설명: 에덴재가노인복지센터 | 주소: 인천광역시 동 | 기타정보: 구 금곡동방문요양 / 방문목욕/ 2018년 02월 개원 / 요양보호사 : 37명\n",
      "시설명: 미소재가노인복지센터 | 주소: 인천광역시 동 | 기타정보: 구 송현동방문요양 / 방문목욕/ 2019년 09월 개원 / 요양보호사 : 44명\n"
     ]
    }
   ],
   "source": [
    "address_keyword = \"인천광역시\"\n",
    "dong_ends = [\"동\", \"가\", \"읍\", \"면\"]\n",
    "\n",
    "def smart_split(text):\n",
    "    # 인천광역시 위치 탐색\n",
    "    idx_start = text.find(address_keyword)\n",
    "    if idx_start == -1:\n",
    "        # 패턴 없으면 전체를 기타정보로\n",
    "        return text, \"\", \"\"\n",
    "    name = text[:idx_start].strip()\n",
    "    rest = text[idx_start:].strip()\n",
    "    # '동', '가', '읍', '면' 중 가장 먼저 등장하는 위치 찾기\n",
    "    dong_idx = -1\n",
    "    for end in dong_ends:\n",
    "        idx = rest.find(end)\n",
    "        if idx != -1:\n",
    "            # +1도 반드시 포함(예: 송현동까지 주소로)\n",
    "            dong_idx = idx + 1\n",
    "            break\n",
    "    if dong_idx == -1:\n",
    "        # 못 찾으면 전체를 주소로\n",
    "        return name, rest, \"\"\n",
    "    addr = rest[:dong_idx]\n",
    "    etc = rest[dong_idx:].strip(\" /\")  # 불필요한 /, 공백 제거\n",
    "    return name, addr, etc\n",
    "\n",
    "# 적용 예시\n",
    "for i, row in enumerate(results):\n",
    "    if i == 0:  # 헤더스킵(첫 줄)\n",
    "        continue\n",
    "    text = row[1]  # 요양원명+주소+기타한 셀\n",
    "    name, addr, etc = smart_split(text)\n",
    "    print(f\"시설명: {name} | 주소: {addr} | 기타정보: {etc}\")\n",
    "\n"
   ]
  },
  {
   "cell_type": "code",
   "execution_count": 14,
   "id": "3eef3de8",
   "metadata": {},
   "outputs": [],
   "source": [
    "try:\n",
    "    driver.quit()\n",
    "except:\n",
    "    pass"
   ]
  },
  {
   "cell_type": "code",
   "execution_count": 15,
   "id": "f12f44dd",
   "metadata": {},
   "outputs": [
    {
     "name": "stdout",
     "output_type": "stream",
     "text": [
      "=== WebDriver 테스트 ===\n",
      "✅ 페이지 로딩 성공!\n",
      "✅ 페이지 파싱 성공! HTML 길이: 1606\n",
      "✅ 테이블 개수: 7\n",
      "✅ '요양원' 포함 텍스트: 7개\n",
      "처음 3개 요양원:\n",
      "  1. {\"@context\":\"http://schema.org\",\"@type\":\"ItemList\",\"itemListOrder\":\"http://schema.org/ItemListOrderAscending\",\"description\":\"인천광역시 동구 요양기관 목록 - 요양기관찾기\",\"itemListElement\":[\n",
      "{\"@type\":\"ListItem\",\"name\":\"동인천요양원\",\"image\":\"https://www.daycarekorea.com/cdn/silver_list_1.png\",\"url\":\"https://www.silvercarekorea.com/silver/detail.php?uid=35563\",\"position\":1},{\"@type\":\"ListItem\",\"name\":\"시니어빌리지요양원\",\"image\":\"https://www.daycarekorea.com/cdn/silver_list_2.png\",\"url\":\"https://www.silvercarekorea.com/silver/detail.php?uid=28630\",\"position\":2},{\"@type\":\"ListItem\",\"name\":\"금곡노인요양원\",\"image\":\"https://www.daycarekorea.com/cdn/silver_list_3.png\",\"url\":\"https://www.silvercarekorea.com/silver/detail.php?uid=7441\",\"position\":3},{\"@type\":\"ListItem\",\"name\":\"아가페요양원\",\"image\":\"https://www.daycarekorea.com/cdn/silver_list_4.png\",\"url\":\"https://www.silvercarekorea.com/silver/detail.php?uid=34309\",\"position\":4},{\"@type\":\"ListItem\",\"name\":\"동인천노인주야간보호센터\",\"image\":\"https://www.daycarekorea.com/cdn/silver_list_5.png\",\"url\":\"https://www.silvercarekorea.com/silver/detail.php?uid=37976\",\"position\":5},{\"@type\":\"ListItem\",\"name\":\"성언의집재가노인지원서비스센터\",\"image\":\"https://www.daycarekorea.com/cdn/silver_list_6.png\",\"url\":\"https://www.silvercarekorea.com/silver/detail.php?uid=7566\",\"position\":6},{\"@type\":\"ListItem\",\"name\":\"엔젤주간보호센터\",\"image\":\"https://www.daycarekorea.com/cdn/silver_list_7.png\",\"url\":\"https://www.silvercarekorea.com/silver/detail.php?uid=40099\",\"position\":7},{\"@type\":\"ListItem\",\"name\":\"행복한효요양원2호점\",\"image\":\"https://www.daycarekorea.com/cdn/silver_list_8.png\",\"url\":\"https://www.silvercarekorea.com/silver/detail.php?uid=7445\",\"position\":8},{\"@type\":\"ListItem\",\"name\":\"주식회사동구종합재가센터\",\"image\":\"https://www.daycarekorea.com/cdn/silver_list_9.png\",\"url\":\"https://www.silvercarekorea.com/silver/detail.php?uid=6611\",\"position\":9},{\"@type\":\"ListItem\",\"name\":\"사회적협동조합 동그라미 노인요양복지센터\",\"image\":\"https://www.daycarekorea.com/cdn/silver_list_10.png\",\"url\":\"https://www.silvercarekorea.com/silver/detail.php?uid=6607\",\"position\":10}]}\n",
      "  2. 동인천요양원\n",
      "  3. 시니어빌리지요양원\n",
      "\n",
      "=== 테스트 완료 ===\n",
      "브라우저 창에서 페이지가 제대로 로딩되었는지 직접 확인해보세요!\n",
      "확인 후 다음 단계 진행 가능합니다.\n"
     ]
    },
    {
     "name": "stderr",
     "output_type": "stream",
     "text": [
      "C:\\Users\\samsung\\AppData\\Local\\Temp\\ipykernel_25772\\39610895.py:40: DeprecationWarning: The 'text' argument to find()-type methods is deprecated. Use 'string' instead.\n",
      "  yoyangwon_texts = soup.find_all(text=lambda text: text and '요양원' in text)\n"
     ]
    }
   ],
   "source": [
    "from selenium import webdriver\n",
    "from selenium.webdriver.chrome.service import Service\n",
    "from selenium.webdriver.chrome.options import Options\n",
    "from webdriver_manager.chrome import ChromeDriverManager\n",
    "from bs4 import BeautifulSoup\n",
    "import time\n",
    "import csv\n",
    "import os\n",
    "\n",
    "# 🚨 안전한 WebDriver 초기화\n",
    "def create_driver():\n",
    "    options = Options()\n",
    "    # headless 제거해서 브라우저 창 보면서 디버깅\n",
    "    options.add_experimental_option('detach', True)\n",
    "    options.add_experimental_option('excludeSwitches', ['enable-logging'])\n",
    "    service = Service(ChromeDriverManager().install())\n",
    "    return webdriver.Chrome(service=service, options=options)\n",
    "\n",
    "# 새 드라이버 생성\n",
    "driver = create_driver()\n",
    "\n",
    "# 간단한 테스트부터\n",
    "print(\"=== WebDriver 테스트 ===\")\n",
    "try:\n",
    "    test_url = 'https://www.silvercarekorea.com/silver/list.php?pagenum=1&addcode=28140&searchkeyword=&orderby=&hashtag=&gubun='\n",
    "    driver.get(test_url)\n",
    "    print(\"✅ 페이지 로딩 성공!\")\n",
    "    \n",
    "    time.sleep(3)\n",
    "    \n",
    "    # 페이지 소스 확인\n",
    "    soup = BeautifulSoup(driver.page_source, 'html.parser')\n",
    "    print(f\"✅ 페이지 파싱 성공! HTML 길이: {len(soup.get_text())}\")\n",
    "    \n",
    "    # 테이블 찾기\n",
    "    all_tables = soup.find_all('table')\n",
    "    print(f\"✅ 테이블 개수: {len(all_tables)}\")\n",
    "    \n",
    "    # 요양원 텍스트 찾기\n",
    "    yoyangwon_texts = soup.find_all(text=lambda text: text and '요양원' in text)\n",
    "    print(f\"✅ '요양원' 포함 텍스트: {len(yoyangwon_texts)}개\")\n",
    "    \n",
    "    if len(yoyangwon_texts) > 0:\n",
    "        print(\"처음 3개 요양원:\")\n",
    "        for i, text in enumerate(yoyangwon_texts[:3]):\n",
    "            clean_text = text.strip()\n",
    "            if len(clean_text) > 5:\n",
    "                print(f\"  {i+1}. {clean_text}\")\n",
    "    \n",
    "except Exception as e:\n",
    "    print(f\"❌ 에러 발생: {e}\")\n",
    "\n",
    "# 테스트 완료 후 브라우저는 열어둠 (detach=True 때문에)\n",
    "print(\"\\n=== 테스트 완료 ===\")\n",
    "print(\"브라우저 창에서 페이지가 제대로 로딩되었는지 직접 확인해보세요!\")\n",
    "print(\"확인 후 다음 단계 진행 가능합니다.\")\n"
   ]
  },
  {
   "cell_type": "code",
   "execution_count": 16,
   "id": "7e342e9b",
   "metadata": {},
   "outputs": [
    {
     "name": "stdout",
     "output_type": "stream",
     "text": [
      "테이블 개수: 7\n",
      "행 개수: 6\n",
      "테이블 내 링크 개수: 11\n",
      "✅ 링크 찾음! 전체 코드 실행 가능\n",
      "  1. 사이트 소개 → intro.php\n",
      "  2. 요양시설 → list.php?gubun=A\n",
      "  3. 주야간보호 → list.php?gubun=B03C03\n"
     ]
    }
   ],
   "source": [
    "from selenium import webdriver\n",
    "from selenium.webdriver.chrome.service import Service\n",
    "from selenium.webdriver.chrome.options import Options\n",
    "from webdriver_manager.chrome import ChromeDriverManager\n",
    "from bs4 import BeautifulSoup\n",
    "import time\n",
    "\n",
    "# 드라이버 생성\n",
    "options = Options()\n",
    "options.add_experimental_option('detach', True)\n",
    "service = Service(ChromeDriverManager().install())\n",
    "driver = webdriver.Chrome(service=service, options=options)\n",
    "\n",
    "# 1페이지만 테스트\n",
    "url = 'https://www.silvercarekorea.com/silver/list.php?pagenum=1&addcode=28140&searchkeyword=&orderby=&hashtag=&gubun='\n",
    "driver.get(url)\n",
    "time.sleep(3)\n",
    "\n",
    "soup = BeautifulSoup(driver.page_source, 'html.parser')\n",
    "\n",
    "# 테이블과 링크 확인\n",
    "all_tables = soup.find_all('table')\n",
    "print(f\"테이블 개수: {len(all_tables)}\")\n",
    "\n",
    "if len(all_tables) > 0:\n",
    "    table = all_tables[0]  # 첫 번째 테이블\n",
    "    rows = table.find_all('tr')\n",
    "    print(f\"행 개수: {len(rows)}\")\n",
    "    \n",
    "    # 링크가 있는지 확인\n",
    "    links = table.find_all('a')\n",
    "    print(f\"테이블 내 링크 개수: {len(links)}\")\n",
    "    \n",
    "    if len(links) > 0:\n",
    "        print(\"✅ 링크 찾음! 전체 코드 실행 가능\")\n",
    "        for i, link in enumerate(links[:3]):\n",
    "            print(f\"  {i+1}. {link.get_text()[:20]} → {link.get('href', 'href없음')}\")\n",
    "    else:\n",
    "        print(\"❌ 링크 없음. 구조 분석 필요\")\n",
    "else:\n",
    "    print(\"❌ 테이블 없음. 페이지 구조 확인 필요\")\n",
    "\n",
    "# 브라우저는 열어둠 (확인용)\n"
   ]
  },
  {
   "cell_type": "code",
   "execution_count": 17,
   "id": "01c96d9a",
   "metadata": {},
   "outputs": [
    {
     "name": "stdout",
     "output_type": "stream",
     "text": [
      "Requirement already satisfied: selenium in c:\\users\\samsung\\appdata\\local\\packages\\pythonsoftwarefoundation.python.3.8_qbz5n2kfra8p0\\localcache\\local-packages\\python38\\site-packages (4.27.1)\n",
      "Requirement already satisfied: webdriver-manager in c:\\users\\samsung\\appdata\\local\\packages\\pythonsoftwarefoundation.python.3.8_qbz5n2kfra8p0\\localcache\\local-packages\\python38\\site-packages (4.0.2)\n",
      "Requirement already satisfied: urllib3[socks]<3,>=1.26 in c:\\users\\samsung\\appdata\\local\\packages\\pythonsoftwarefoundation.python.3.8_qbz5n2kfra8p0\\localcache\\local-packages\\python38\\site-packages (from selenium) (2.2.3)\n",
      "Requirement already satisfied: trio~=0.17 in c:\\users\\samsung\\appdata\\local\\packages\\pythonsoftwarefoundation.python.3.8_qbz5n2kfra8p0\\localcache\\local-packages\\python38\\site-packages (from selenium) (0.27.0)\n",
      "Requirement already satisfied: certifi>=2021.10.8 in c:\\users\\samsung\\appdata\\local\\packages\\pythonsoftwarefoundation.python.3.8_qbz5n2kfra8p0\\localcache\\local-packages\\python38\\site-packages (from selenium) (2025.8.3)\n",
      "Requirement already satisfied: trio-websocket~=0.9 in c:\\users\\samsung\\appdata\\local\\packages\\pythonsoftwarefoundation.python.3.8_qbz5n2kfra8p0\\localcache\\local-packages\\python38\\site-packages (from selenium) (0.12.2)\n",
      "Requirement already satisfied: websocket-client~=1.8 in c:\\users\\samsung\\appdata\\local\\packages\\pythonsoftwarefoundation.python.3.8_qbz5n2kfra8p0\\localcache\\local-packages\\python38\\site-packages (from selenium) (1.8.0)\n",
      "Requirement already satisfied: typing_extensions~=4.9 in c:\\users\\samsung\\appdata\\local\\packages\\pythonsoftwarefoundation.python.3.8_qbz5n2kfra8p0\\localcache\\local-packages\\python38\\site-packages (from selenium) (4.13.2)\n",
      "Requirement already satisfied: attrs>=23.2.0 in c:\\users\\samsung\\appdata\\local\\packages\\pythonsoftwarefoundation.python.3.8_qbz5n2kfra8p0\\localcache\\local-packages\\python38\\site-packages (from trio~=0.17->selenium) (25.3.0)\n",
      "Requirement already satisfied: sortedcontainers in c:\\users\\samsung\\appdata\\local\\packages\\pythonsoftwarefoundation.python.3.8_qbz5n2kfra8p0\\localcache\\local-packages\\python38\\site-packages (from trio~=0.17->selenium) (2.4.0)\n",
      "Requirement already satisfied: outcome in c:\\users\\samsung\\appdata\\local\\packages\\pythonsoftwarefoundation.python.3.8_qbz5n2kfra8p0\\localcache\\local-packages\\python38\\site-packages (from trio~=0.17->selenium) (1.3.0.post0)\n",
      "Requirement already satisfied: cffi>=1.14 in c:\\users\\samsung\\appdata\\local\\packages\\pythonsoftwarefoundation.python.3.8_qbz5n2kfra8p0\\localcache\\local-packages\\python38\\site-packages (from trio~=0.17->selenium) (1.17.1)\n",
      "Requirement already satisfied: exceptiongroup in c:\\users\\samsung\\appdata\\local\\packages\\pythonsoftwarefoundation.python.3.8_qbz5n2kfra8p0\\localcache\\local-packages\\python38\\site-packages (from trio~=0.17->selenium) (1.3.0)\n",
      "Requirement already satisfied: sniffio>=1.3.0 in c:\\users\\samsung\\appdata\\local\\packages\\pythonsoftwarefoundation.python.3.8_qbz5n2kfra8p0\\localcache\\local-packages\\python38\\site-packages (from trio~=0.17->selenium) (1.3.1)\n",
      "Requirement already satisfied: idna in c:\\users\\samsung\\appdata\\local\\packages\\pythonsoftwarefoundation.python.3.8_qbz5n2kfra8p0\\localcache\\local-packages\\python38\\site-packages (from trio~=0.17->selenium) (3.10)\n",
      "Requirement already satisfied: pycparser in c:\\users\\samsung\\appdata\\local\\packages\\pythonsoftwarefoundation.python.3.8_qbz5n2kfra8p0\\localcache\\local-packages\\python38\\site-packages (from cffi>=1.14->trio~=0.17->selenium) (2.22)\n",
      "Requirement already satisfied: wsproto>=0.14 in c:\\users\\samsung\\appdata\\local\\packages\\pythonsoftwarefoundation.python.3.8_qbz5n2kfra8p0\\localcache\\local-packages\\python38\\site-packages (from trio-websocket~=0.9->selenium) (1.2.0)\n",
      "Requirement already satisfied: pysocks!=1.5.7,<2.0,>=1.5.6 in c:\\users\\samsung\\appdata\\local\\packages\\pythonsoftwarefoundation.python.3.8_qbz5n2kfra8p0\\localcache\\local-packages\\python38\\site-packages (from urllib3[socks]<3,>=1.26->selenium) (1.7.1)\n",
      "Requirement already satisfied: h11<1,>=0.9.0 in c:\\users\\samsung\\appdata\\local\\packages\\pythonsoftwarefoundation.python.3.8_qbz5n2kfra8p0\\localcache\\local-packages\\python38\\site-packages (from wsproto>=0.14->trio-websocket~=0.9->selenium) (0.16.0)\n",
      "Requirement already satisfied: packaging in c:\\users\\samsung\\appdata\\local\\packages\\pythonsoftwarefoundation.python.3.8_qbz5n2kfra8p0\\localcache\\local-packages\\python38\\site-packages (from webdriver-manager) (25.0)\n",
      "Requirement already satisfied: python-dotenv in c:\\users\\samsung\\appdata\\local\\packages\\pythonsoftwarefoundation.python.3.8_qbz5n2kfra8p0\\localcache\\local-packages\\python38\\site-packages (from webdriver-manager) (1.0.1)\n",
      "Requirement already satisfied: requests in c:\\users\\samsung\\appdata\\local\\packages\\pythonsoftwarefoundation.python.3.8_qbz5n2kfra8p0\\localcache\\local-packages\\python38\\site-packages (from webdriver-manager) (2.32.4)\n",
      "Requirement already satisfied: charset_normalizer<4,>=2 in c:\\users\\samsung\\appdata\\local\\packages\\pythonsoftwarefoundation.python.3.8_qbz5n2kfra8p0\\localcache\\local-packages\\python38\\site-packages (from requests->webdriver-manager) (3.4.2)\n",
      "Note: you may need to restart the kernel to use updated packages.\n"
     ]
    },
    {
     "name": "stderr",
     "output_type": "stream",
     "text": [
      "WARNING: You are using pip version 21.1.1; however, version 25.0.1 is available.\n",
      "You should consider upgrading via the 'C:\\Users\\samsung\\AppData\\Local\\Microsoft\\WindowsApps\\PythonSoftwareFoundation.Python.3.8_qbz5n2kfra8p0\\python.exe -m pip install --upgrade pip' command.\n"
     ]
    }
   ],
   "source": [
    "pip install selenium webdriver-manager\n"
   ]
  },
  {
   "cell_type": "code",
   "execution_count": 18,
   "id": "c4c3b4c0",
   "metadata": {},
   "outputs": [
    {
     "name": "stdout",
     "output_type": "stream",
     "text": [
      "Requirement already satisfied: selenium in c:\\users\\samsung\\appdata\\local\\packages\\pythonsoftwarefoundation.python.3.8_qbz5n2kfra8p0\\localcache\\local-packages\\python38\\site-packages (4.27.1)\n",
      "Requirement already satisfied: webdriver-manager in c:\\users\\samsung\\appdata\\local\\packages\\pythonsoftwarefoundation.python.3.8_qbz5n2kfra8p0\\localcache\\local-packages\\python38\\site-packages (4.0.2)\n",
      "Requirement already satisfied: trio-websocket~=0.9 in c:\\users\\samsung\\appdata\\local\\packages\\pythonsoftwarefoundation.python.3.8_qbz5n2kfra8p0\\localcache\\local-packages\\python38\\site-packages (from selenium) (0.12.2)\n",
      "Requirement already satisfied: websocket-client~=1.8 in c:\\users\\samsung\\appdata\\local\\packages\\pythonsoftwarefoundation.python.3.8_qbz5n2kfra8p0\\localcache\\local-packages\\python38\\site-packages (from selenium) (1.8.0)\n",
      "Requirement already satisfied: urllib3[socks]<3,>=1.26 in c:\\users\\samsung\\appdata\\local\\packages\\pythonsoftwarefoundation.python.3.8_qbz5n2kfra8p0\\localcache\\local-packages\\python38\\site-packages (from selenium) (2.2.3)\n",
      "Requirement already satisfied: certifi>=2021.10.8 in c:\\users\\samsung\\appdata\\local\\packages\\pythonsoftwarefoundation.python.3.8_qbz5n2kfra8p0\\localcache\\local-packages\\python38\\site-packages (from selenium) (2025.8.3)\n",
      "Requirement already satisfied: trio~=0.17 in c:\\users\\samsung\\appdata\\local\\packages\\pythonsoftwarefoundation.python.3.8_qbz5n2kfra8p0\\localcache\\local-packages\\python38\\site-packages (from selenium) (0.27.0)\n",
      "Requirement already satisfied: typing_extensions~=4.9 in c:\\users\\samsung\\appdata\\local\\packages\\pythonsoftwarefoundation.python.3.8_qbz5n2kfra8p0\\localcache\\local-packages\\python38\\site-packages (from selenium) (4.13.2)\n",
      "Requirement already satisfied: cffi>=1.14 in c:\\users\\samsung\\appdata\\local\\packages\\pythonsoftwarefoundation.python.3.8_qbz5n2kfra8p0\\localcache\\local-packages\\python38\\site-packages (from trio~=0.17->selenium) (1.17.1)\n",
      "Requirement already satisfied: outcome in c:\\users\\samsung\\appdata\\local\\packages\\pythonsoftwarefoundation.python.3.8_qbz5n2kfra8p0\\localcache\\local-packages\\python38\\site-packages (from trio~=0.17->selenium) (1.3.0.post0)\n",
      "Requirement already satisfied: exceptiongroup in c:\\users\\samsung\\appdata\\local\\packages\\pythonsoftwarefoundation.python.3.8_qbz5n2kfra8p0\\localcache\\local-packages\\python38\\site-packages (from trio~=0.17->selenium) (1.3.0)\n",
      "Requirement already satisfied: attrs>=23.2.0 in c:\\users\\samsung\\appdata\\local\\packages\\pythonsoftwarefoundation.python.3.8_qbz5n2kfra8p0\\localcache\\local-packages\\python38\\site-packages (from trio~=0.17->selenium) (25.3.0)\n",
      "Requirement already satisfied: idna in c:\\users\\samsung\\appdata\\local\\packages\\pythonsoftwarefoundation.python.3.8_qbz5n2kfra8p0\\localcache\\local-packages\\python38\\site-packages (from trio~=0.17->selenium) (3.10)\n",
      "Requirement already satisfied: sniffio>=1.3.0 in c:\\users\\samsung\\appdata\\local\\packages\\pythonsoftwarefoundation.python.3.8_qbz5n2kfra8p0\\localcache\\local-packages\\python38\\site-packages (from trio~=0.17->selenium) (1.3.1)\n",
      "Requirement already satisfied: sortedcontainers in c:\\users\\samsung\\appdata\\local\\packages\\pythonsoftwarefoundation.python.3.8_qbz5n2kfra8p0\\localcache\\local-packages\\python38\\site-packages (from trio~=0.17->selenium) (2.4.0)\n",
      "Requirement already satisfied: pycparser in c:\\users\\samsung\\appdata\\local\\packages\\pythonsoftwarefoundation.python.3.8_qbz5n2kfra8p0\\localcache\\local-packages\\python38\\site-packages (from cffi>=1.14->trio~=0.17->selenium) (2.22)\n",
      "Requirement already satisfied: wsproto>=0.14 in c:\\users\\samsung\\appdata\\local\\packages\\pythonsoftwarefoundation.python.3.8_qbz5n2kfra8p0\\localcache\\local-packages\\python38\\site-packages (from trio-websocket~=0.9->selenium) (1.2.0)\n",
      "Requirement already satisfied: pysocks!=1.5.7,<2.0,>=1.5.6 in c:\\users\\samsung\\appdata\\local\\packages\\pythonsoftwarefoundation.python.3.8_qbz5n2kfra8p0\\localcache\\local-packages\\python38\\site-packages (from urllib3[socks]<3,>=1.26->selenium) (1.7.1)\n",
      "Requirement already satisfied: h11<1,>=0.9.0 in c:\\users\\samsung\\appdata\\local\\packages\\pythonsoftwarefoundation.python.3.8_qbz5n2kfra8p0\\localcache\\local-packages\\python38\\site-packages (from wsproto>=0.14->trio-websocket~=0.9->selenium) (0.16.0)\n",
      "Requirement already satisfied: requests in c:\\users\\samsung\\appdata\\local\\packages\\pythonsoftwarefoundation.python.3.8_qbz5n2kfra8p0\\localcache\\local-packages\\python38\\site-packages (from webdriver-manager) (2.32.4)\n",
      "Requirement already satisfied: python-dotenv in c:\\users\\samsung\\appdata\\local\\packages\\pythonsoftwarefoundation.python.3.8_qbz5n2kfra8p0\\localcache\\local-packages\\python38\\site-packages (from webdriver-manager) (1.0.1)\n",
      "Requirement already satisfied: packaging in c:\\users\\samsung\\appdata\\local\\packages\\pythonsoftwarefoundation.python.3.8_qbz5n2kfra8p0\\localcache\\local-packages\\python38\\site-packages (from webdriver-manager) (25.0)\n",
      "Requirement already satisfied: charset_normalizer<4,>=2 in c:\\users\\samsung\\appdata\\local\\packages\\pythonsoftwarefoundation.python.3.8_qbz5n2kfra8p0\\localcache\\local-packages\\python38\\site-packages (from requests->webdriver-manager) (3.4.2)\n",
      "Note: you may need to restart the kernel to use updated packages.\n"
     ]
    },
    {
     "name": "stderr",
     "output_type": "stream",
     "text": [
      "WARNING: You are using pip version 21.1.1; however, version 25.0.1 is available.\n",
      "You should consider upgrading via the 'C:\\Users\\samsung\\AppData\\Local\\Microsoft\\WindowsApps\\PythonSoftwareFoundation.Python.3.8_qbz5n2kfra8p0\\python.exe -m pip install --upgrade pip' command.\n"
     ]
    }
   ],
   "source": [
    "pip install -U selenium webdriver-manager"
   ]
  },
  {
   "cell_type": "code",
   "execution_count": 19,
   "id": "f83d40c3",
   "metadata": {},
   "outputs": [
    {
     "name": "stdout",
     "output_type": "stream",
     "text": [
      "에러: Message: target frame detached\n",
      "  (failed to check if window was closed: disconnected: Unable to receive message from renderer)\n",
      "  (Session info: chrome=131.0.6778.205)\n",
      "Stacktrace:\n",
      "\tGetHandleVerifier [0x0061FD53+23747]\n",
      "\t(No symbol) [0x005A7D54]\n",
      "\t(No symbol) [0x0047BCCD]\n",
      "\t(No symbol) [0x0046D3E0]\n",
      "\t(No symbol) [0x0046B8BB]\n",
      "\t(No symbol) [0x0046BF2D]\n",
      "\t(No symbol) [0x004781BA]\n",
      "\t(No symbol) [0x004878B5]\n",
      "\t(No symbol) [0x0048C726]\n",
      "\t(No symbol) [0x0046C535]\n",
      "\t(No symbol) [0x004874E1]\n",
      "\t(No symbol) [0x004FB778]\n",
      "\t(No symbol) [0x004E1B96]\n",
      "\t(No symbol) [0x004B3F3C]\n",
      "\t(No symbol) [0x004B4EBD]\n",
      "\tGetHandleVerifier [0x008FAC73+3017699]\n",
      "\tGetHandleVerifier [0x0090B93B+3086507]\n",
      "\tGetHandleVerifier [0x009040F2+3055714]\n",
      "\tGetHandleVerifier [0x006B5AF0+637536]\n",
      "\t(No symbol) [0x005B0A5D]\n",
      "\t(No symbol) [0x005ADA28]\n",
      "\t(No symbol) [0x005ADBC5]\n",
      "\t(No symbol) [0x005A07F0]\n",
      "\tBaseThreadInitThunk [0x766C7BA9+25]\n",
      "\tRtlInitializeExceptionChain [0x76EFC0CB+107]\n",
      "\tRtlClearBits [0x76EFC04F+191]\n",
      "\n"
     ]
    }
   ],
   "source": [
    "from selenium import webdriver\n",
    "from selenium.webdriver.chrome.options import Options\n",
    "from selenium.webdriver.chrome.service import Service\n",
    "from webdriver_manager.chrome import ChromeDriverManager\n",
    "import time\n",
    "\n",
    "def create_driver():\n",
    "    options = Options()\n",
    "    options.add_experimental_option('detach', True)\n",
    "    service = Service(ChromeDriverManager().install())\n",
    "    return webdriver.Chrome(service=service, options=options)\n",
    "\n",
    "# 실행 전 항상 새 driver\n",
    "driver = create_driver()\n",
    "\n",
    "try:\n",
    "    driver.get('https://www.silvercarekorea.com/silver/list.php?pagenum=1&addcode=28140')\n",
    "    time.sleep(2)\n",
    "    # ... (크롤링 코드)\n",
    "except Exception as e:\n",
    "    print(f\"에러: {e}\")\n",
    "finally:\n",
    "    driver.quit()\n"
   ]
  },
  {
   "cell_type": "code",
   "execution_count": 20,
   "id": "a31cb17a",
   "metadata": {},
   "outputs": [],
   "source": [
    "time.sleep(2)"
   ]
  },
  {
   "cell_type": "code",
   "execution_count": 21,
   "id": "3956fc8a",
   "metadata": {},
   "outputs": [],
   "source": [
    "# ... (Selenium 등 세팅 코드)\n",
    "\n",
    "for row in table.find_all('tr')[1:]:\n",
    "    cols = row.find_all('td')\n",
    "    if len(cols) < 2:\n",
    "        continue\n",
    "    a_tag = cols[1].find('a')\n",
    "    # 반드시 'detail.php'만 포함한 링크만!\n",
    "    if a_tag and a_tag.get('href') and 'detail.php' in a_tag.get('href'):\n",
    "        detail_url = a_tag['href']\n",
    "        if not detail_url.startswith('http'):\n",
    "            if not detail_url.startswith('/'):\n",
    "                detail_url = '/' + detail_url\n",
    "            detail_url = 'https://www.silvercarekorea.com' + detail_url\n",
    "        # 이하 상세페이지 접근 & 주소 추출은 기존 로직과 동일하게 실행\n",
    "\n"
   ]
  },
  {
   "cell_type": "code",
   "execution_count": 22,
   "id": "5cb2d709",
   "metadata": {},
   "outputs": [],
   "source": [
    "from selenium import webdriver\n",
    "from selenium.webdriver.chrome.service import Service\n",
    "from selenium.webdriver.chrome.options import Options\n",
    "from webdriver_manager.chrome import ChromeDriverManager\n",
    "\n",
    "options = Options()\n",
    "options.add_argument('--headless') # (필요시 창 안띄움, 안해도 됨)\n",
    "service = Service(ChromeDriverManager().install())\n",
    "driver = webdriver.Chrome(service=service, options=options)\n"
   ]
  },
  {
   "cell_type": "code",
   "execution_count": 172,
   "id": "d23705fe",
   "metadata": {
    "collapsed": true,
    "jupyter": {
     "outputs_hidden": true
    }
   },
   "outputs": [
    {
     "name": "stdout",
     "output_type": "stream",
     "text": [
      "\n",
      "=============== 링크 1 정보 (https://www.silvercarekorea.com/silver/detail.php?uid=6602) ===============\n",
      "기관유형: 재가장기요양기관 복지용구\n",
      "주소: 인천광역시 동구 솔빛로 21인천광역시 동구 요양기관 전체 보기\n",
      "전화번호: 032-772-2244\n",
      "홈페이지: http://solsup.kr/\n",
      "장기요양기관지정일: 2019년 03월 20일\n",
      "교통편: 주소 : 인천 동구 솔빛로 21, 105(송현동,솔빛마을상가C동)  - 전철이용시 : 동인천역 4번 출구, 북광장으로 진입후 보도로 5분   - 버스이용시 : 12, 72, 82, 506번 버스 미림극장 맞은편 하차후 5분거리\n",
      "주차시설: 주차가능\n",
      "\n",
      "=============== 링크 2 정보 (https://www.silvercarekorea.com/silver/detail.php?uid=40641) ===============\n",
      "기관유형: 재가노인복지시설 방문요양 / 재가노인복지시설 방문목욕\n",
      "주소: 인천광역시 동구 만석로 85인천광역시 동구 요양기관 전체 보기\n",
      "전화번호: 032-208-1207\n",
      "홈페이지: http://smilesenior.co.kr\n",
      "장기요양기관지정일: 2025년 07월 14일\n",
      "교통편: 지하철: 동인천역 4번출구에서 도보 12분 버   스: 화도진공원에서 도보 7분  (2번 /  21번 /  26번  /  506번)\n",
      "주차시설: 주차장은 따로 없고, 주변 지역 주차 라인에 주차 가능 합니다.\n",
      "\n",
      "=============== 링크 3 정보 (https://www.silvercarekorea.com/silver/detail.php?uid=40640) ===============\n",
      "기관유형: 재가노인복지시설 방문요양 / 재가노인복지시설 방문목욕\n",
      "주소: 인천광역시 동구 새천년로 37인천광역시 동구 요양기관 전체 보기\n",
      "전화번호: 010-6281-0058\n",
      "홈페이지: http://www.onsaem.org\n",
      "장기요양기관지정일: 2025년 07월 14일\n",
      "교통편: 인천광역시 동구 새천년로37, 1층  버스 동산휴먼시아 2단지 63, 510  / 동산교회 방향 2, 7, 10, 13   지하철 인천1호선 제물포역 2번출구 동산고등학교 방향 510번 환승\n",
      "주차시설: 방문 시 사전 문의주세요\n"
     ]
    }
   ],
   "source": [
    "import requests\n",
    "from bs4 import BeautifulSoup\n",
    "\n",
    "# 크롤링할 URL 리스트\n",
    "urls = [\n",
    "    \"https://www.silvercarekorea.com/silver/detail.php?uid=6602\",\n",
    "    \"https://www.silvercarekorea.com/silver/detail.php?uid=40641\",\n",
    "    \"https://www.silvercarekorea.com/silver/detail.php?uid=40640\"\n",
    "    # 여기에 필요한 링크 추가 가능\n",
    "]\n",
    "\n",
    "headers = {\"User-Agent\": \"Mozilla/5.0\"}\n",
    "\n",
    "def get_value(soup, label):\n",
    "    for td in soup.find_all('td'):\n",
    "        td_text = td.get_text(\" \", strip=True)\n",
    "        if td_text.replace(\" \", \"\").startswith(label):\n",
    "            next_td = td.find_next_sibling('td')\n",
    "            if next_td:\n",
    "                return next_td.get_text(strip=True)\n",
    "            else:\n",
    "                return td_text.replace(label, \"\").strip(\" :\")\n",
    "    return \"\"\n",
    "\n",
    "for i, url in enumerate(urls, 1):\n",
    "    print(f\"\\n{'='*15} 링크 {i} 정보 ({url}) {'='*15}\")\n",
    "    try:\n",
    "        resp = requests.get(url, headers=headers, timeout=10)\n",
    "        resp.raise_for_status()  # 요청 실패 시 예외 발생\n",
    "        soup = BeautifulSoup(resp.content, 'html.parser')\n",
    "\n",
    "        기관유형 = get_value(soup, \"기관유형\")\n",
    "        주소 = get_value(soup, \"주소\")\n",
    "        전화번호 = get_value(soup, \"전화번호\")\n",
    "        홈페이지 = get_value(soup, \"홈페이지\")\n",
    "        장기요양기관지정일 = get_value(soup, \"장기요양기관지정일\")\n",
    "        교통편 = get_value(soup, \"교통편\")\n",
    "        주차시설 = get_value(soup, \"주차시설\")\n",
    "\n",
    "        print(f\"기관유형: {기관유형}\")\n",
    "        print(f\"주소: {주소}\")\n",
    "        print(f\"전화번호: {전화번호}\")\n",
    "        print(f\"홈페이지: {홈페이지}\")\n",
    "        print(f\"장기요양기관지정일: {장기요양기관지정일}\")\n",
    "        print(f\"교통편: {교통편}\")\n",
    "        print(f\"주차시설: {주차시설}\")\n",
    "    except requests.RequestException as e:\n",
    "        print(f\"링크 {i} 요청 중 오류 발생: {e}\")\n"
   ]
  },
  {
   "cell_type": "code",
   "execution_count": 178,
   "id": "e477475f",
   "metadata": {},
   "outputs": [],
   "source": [
    "from selenium import webdriver\n",
    "from bs4 import BeautifulSoup\n",
    "import time\n",
    "\n",
    "driver = webdriver.Chrome()  # 크롬드라이버 필요\n",
    "driver.get('https://www.silvercarekorea.com/silver/detail.php?uid=40640')            # 타겟 URL\n",
    "time.sleep(2)                # 렌더링 기다리기\n",
    "\n",
    "html = driver.page_source\n",
    "soup = BeautifulSoup(html, 'html.parser')\n",
    "table = soup.find('table', {'class': 'datatable'})\n",
    "# 이하 동일하게 rows 등 처리\n",
    "driver.quit()\n"
   ]
  },
  {
   "cell_type": "code",
   "execution_count": 180,
   "id": "611b7d50-44ff-4ce9-90de-12248321cff8",
   "metadata": {},
   "outputs": [
    {
     "name": "stdout",
     "output_type": "stream",
     "text": [
      "['구분', '요양보호사', '의사', '간호인력', '치료/사회복지사', '조리인력', '관리직원', '사무직원']\n",
      "['재가노인복지시설 방문요양', '1급 : 0명2급 : 0명유예 : 0명 1급 : 0명 2급 : 0명 유예 : 0명', '전임 : 0명계약 : 0명 전임 : 0명 계약 : 0명', '간호사 : 0명간호조무사 : 0명치위생사 : 0명 간호사 : 0명 간호조무사 : 0명 치위생사 : 0명', '물리치료사 : 0명작업치료사 : 0명사회복지사 : 0명 물리치료사 : 0명 작업치료사 : 0명 사회복지사 : 0명', '영양사 : 0명조리원 : 0명위생원 : 0명 영양사 : 0명 조리원 : 0명 위생원 : 0명', '시설장 : 1명사무국장 : 0명관리인 : 0명 시설장 : 1명 사무국장 : 0명 관리인 : 0명', '사무원 : 0명보조원 : 0명기타 : 0명 사무원 : 0명 보조원 : 0명 기타 : 0명']\n",
      "['재가노인복지시설 방문목욕', '1급 : 0명2급 : 0명유예 : 0명 1급 : 0명 2급 : 0명 유예 : 0명', '전임 : 0명계약 : 0명 전임 : 0명 계약 : 0명', '간호사 : 0명간호조무사 : 0명치위생사 : 0명 간호사 : 0명 간호조무사 : 0명 치위생사 : 0명', '물리치료사 : 0명작업치료사 : 0명사회복지사 : 0명 물리치료사 : 0명 작업치료사 : 0명 사회복지사 : 0명', '영양사 : 0명조리원 : 0명위생원 : 0명 영양사 : 0명 조리원 : 0명 위생원 : 0명', '시설장 : 0명사무국장 : 0명관리인 : 0명 시설장 : 0명 사무국장 : 0명 관리인 : 0명', '사무원 : 0명보조원 : 0명기타 : 0명 사무원 : 0명 보조원 : 0명 기타 : 0명']\n",
      "\n",
      "\n"
     ]
    },
    {
     "ename": "IndexError",
     "evalue": "list index out of range",
     "output_type": "error",
     "traceback": [
      "\u001b[1;31m---------------------------------------------------------------------------\u001b[0m",
      "\u001b[1;31mIndexError\u001b[0m                                Traceback (most recent call last)",
      "Cell \u001b[1;32mIn[180], line 6\u001b[0m\n\u001b[0;32m      3\u001b[0m \u001b[38;5;66;03m# 인덱스 3, 4, 5 세 개의 표를 순서대로 처리\u001b[39;00m\n\u001b[0;32m      4\u001b[0m \u001b[38;5;28;01mfor\u001b[39;00m idx \u001b[38;5;129;01min\u001b[39;00m [\u001b[38;5;241m3\u001b[39m, \u001b[38;5;241m4\u001b[39m, \u001b[38;5;241m5\u001b[39m]:\n\u001b[0;32m      5\u001b[0m     \u001b[38;5;66;03m#print(f\"Table at index {idx}:\")\u001b[39;00m\n\u001b[1;32m----> 6\u001b[0m     employee_table \u001b[38;5;241m=\u001b[39m \u001b[43mtables\u001b[49m\u001b[43m[\u001b[49m\u001b[43midx\u001b[49m\u001b[43m]\u001b[49m\n\u001b[0;32m      8\u001b[0m     rows \u001b[38;5;241m=\u001b[39m employee_table\u001b[38;5;241m.\u001b[39mfind_all(\u001b[38;5;124m'\u001b[39m\u001b[38;5;124mtr\u001b[39m\u001b[38;5;124m'\u001b[39m)\n\u001b[0;32m      9\u001b[0m     data \u001b[38;5;241m=\u001b[39m []\n",
      "\u001b[1;31mIndexError\u001b[0m: list index out of range"
     ]
    }
   ],
   "source": [
    "tables = soup.find_all('table', class_='datatable')\n",
    "\n",
    "# 인덱스 3, 4, 5 세 개의 표를 순서대로 처리\n",
    "for idx in [3, 4, 5]:\n",
    "    #print(f\"Table at index {idx}:\")\n",
    "    employee_table = tables[idx]\n",
    "\n",
    "    rows = employee_table.find_all('tr')\n",
    "    data = []\n",
    "    for tr in rows:\n",
    "        cells = tr.find_all('td')\n",
    "        row = []\n",
    "        for td in cells:\n",
    "            spans = td.find_all('span')\n",
    "            if spans:\n",
    "                text = ' '.join([span.get_text(strip=True) for span in spans])\n",
    "            else:\n",
    "                text = td.get_text(strip=True)\n",
    "            row.append(text)\n",
    "        if row:\n",
    "            data.append(row)\n",
    "\n",
    "    for row in data:\n",
    "        print(row)\n",
    "    print(\"\\n\")  # 표별로 구분을 위해 빈 줄 추가\n"
   ]
  },
  {
   "cell_type": "code",
   "execution_count": null,
   "id": "f1c81c0a-abae-41d2-bb6f-f90ae387100e",
   "metadata": {},
   "outputs": [],
   "source": []
  }
 ],
 "metadata": {
  "kernelspec": {
   "display_name": "Python 3 (ipykernel)",
   "language": "python",
   "name": "python3"
  },
  "language_info": {
   "codemirror_mode": {
    "name": "ipython",
    "version": 3
   },
   "file_extension": ".py",
   "mimetype": "text/x-python",
   "name": "python",
   "nbconvert_exporter": "python",
   "pygments_lexer": "ipython3",
   "version": "3.8.10"
  }
 },
 "nbformat": 4,
 "nbformat_minor": 5
}
